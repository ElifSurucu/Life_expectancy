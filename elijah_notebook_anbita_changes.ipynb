{
 "cells": [
  {
   "cell_type": "code",
   "execution_count": 1,
   "id": "de873f88",
   "metadata": {},
   "outputs": [],
   "source": [
    "# Imports\n",
    "import pandas as pd\n",
    "import numpy as np\n",
    "import matplotlib.pyplot as plt\n",
    "import seaborn as sns"
   ]
  },
  {
   "cell_type": "code",
   "execution_count": 2,
   "id": "ed77767e-ae49-4d06-85ee-1d5922e41b40",
   "metadata": {
    "scrolled": true
   },
   "outputs": [
    {
     "data": {
      "text/html": [
       "<div>\n",
       "<style scoped>\n",
       "    .dataframe tbody tr th:only-of-type {\n",
       "        vertical-align: middle;\n",
       "    }\n",
       "\n",
       "    .dataframe tbody tr th {\n",
       "        vertical-align: top;\n",
       "    }\n",
       "\n",
       "    .dataframe thead th {\n",
       "        text-align: right;\n",
       "    }\n",
       "</style>\n",
       "<table border=\"1\" class=\"dataframe\">\n",
       "  <thead>\n",
       "    <tr style=\"text-align: right;\">\n",
       "      <th></th>\n",
       "      <th>Country</th>\n",
       "      <th>Year</th>\n",
       "      <th>Status</th>\n",
       "      <th>Life expectancy</th>\n",
       "      <th>Adult Mortality</th>\n",
       "      <th>infant deaths</th>\n",
       "      <th>Alcohol</th>\n",
       "      <th>percentage expenditure</th>\n",
       "      <th>Hepatitis B</th>\n",
       "      <th>Measles</th>\n",
       "      <th>...</th>\n",
       "      <th>Polio</th>\n",
       "      <th>Total expenditure</th>\n",
       "      <th>Diphtheria</th>\n",
       "      <th>HIV/AIDS</th>\n",
       "      <th>GDP</th>\n",
       "      <th>Population</th>\n",
       "      <th>thinness  1-19 years</th>\n",
       "      <th>thinness 5-9 years</th>\n",
       "      <th>Income composition of resources</th>\n",
       "      <th>Schooling</th>\n",
       "    </tr>\n",
       "  </thead>\n",
       "  <tbody>\n",
       "    <tr>\n",
       "      <th>0</th>\n",
       "      <td>Afghanistan</td>\n",
       "      <td>2015</td>\n",
       "      <td>Developing</td>\n",
       "      <td>65.0</td>\n",
       "      <td>263.0</td>\n",
       "      <td>62</td>\n",
       "      <td>0.01</td>\n",
       "      <td>71.279624</td>\n",
       "      <td>65.0</td>\n",
       "      <td>1154</td>\n",
       "      <td>...</td>\n",
       "      <td>6.0</td>\n",
       "      <td>8.16</td>\n",
       "      <td>65.0</td>\n",
       "      <td>0.1</td>\n",
       "      <td>584.259210</td>\n",
       "      <td>33736494.0</td>\n",
       "      <td>17.2</td>\n",
       "      <td>17.3</td>\n",
       "      <td>0.479</td>\n",
       "      <td>10.1</td>\n",
       "    </tr>\n",
       "    <tr>\n",
       "      <th>1</th>\n",
       "      <td>Afghanistan</td>\n",
       "      <td>2014</td>\n",
       "      <td>Developing</td>\n",
       "      <td>59.9</td>\n",
       "      <td>271.0</td>\n",
       "      <td>64</td>\n",
       "      <td>0.01</td>\n",
       "      <td>73.523582</td>\n",
       "      <td>62.0</td>\n",
       "      <td>492</td>\n",
       "      <td>...</td>\n",
       "      <td>58.0</td>\n",
       "      <td>8.18</td>\n",
       "      <td>62.0</td>\n",
       "      <td>0.1</td>\n",
       "      <td>612.696514</td>\n",
       "      <td>327582.0</td>\n",
       "      <td>17.5</td>\n",
       "      <td>17.5</td>\n",
       "      <td>0.476</td>\n",
       "      <td>10.0</td>\n",
       "    </tr>\n",
       "    <tr>\n",
       "      <th>2</th>\n",
       "      <td>Afghanistan</td>\n",
       "      <td>2013</td>\n",
       "      <td>Developing</td>\n",
       "      <td>59.9</td>\n",
       "      <td>268.0</td>\n",
       "      <td>66</td>\n",
       "      <td>0.01</td>\n",
       "      <td>73.219243</td>\n",
       "      <td>64.0</td>\n",
       "      <td>430</td>\n",
       "      <td>...</td>\n",
       "      <td>62.0</td>\n",
       "      <td>8.13</td>\n",
       "      <td>64.0</td>\n",
       "      <td>0.1</td>\n",
       "      <td>631.744976</td>\n",
       "      <td>31731688.0</td>\n",
       "      <td>17.7</td>\n",
       "      <td>17.7</td>\n",
       "      <td>0.470</td>\n",
       "      <td>9.9</td>\n",
       "    </tr>\n",
       "    <tr>\n",
       "      <th>3</th>\n",
       "      <td>Afghanistan</td>\n",
       "      <td>2012</td>\n",
       "      <td>Developing</td>\n",
       "      <td>59.5</td>\n",
       "      <td>272.0</td>\n",
       "      <td>69</td>\n",
       "      <td>0.01</td>\n",
       "      <td>78.184215</td>\n",
       "      <td>67.0</td>\n",
       "      <td>2787</td>\n",
       "      <td>...</td>\n",
       "      <td>67.0</td>\n",
       "      <td>8.52</td>\n",
       "      <td>67.0</td>\n",
       "      <td>0.1</td>\n",
       "      <td>669.959000</td>\n",
       "      <td>3696958.0</td>\n",
       "      <td>17.9</td>\n",
       "      <td>18.0</td>\n",
       "      <td>0.463</td>\n",
       "      <td>9.8</td>\n",
       "    </tr>\n",
       "    <tr>\n",
       "      <th>4</th>\n",
       "      <td>Afghanistan</td>\n",
       "      <td>2011</td>\n",
       "      <td>Developing</td>\n",
       "      <td>59.2</td>\n",
       "      <td>275.0</td>\n",
       "      <td>71</td>\n",
       "      <td>0.01</td>\n",
       "      <td>7.097109</td>\n",
       "      <td>68.0</td>\n",
       "      <td>3013</td>\n",
       "      <td>...</td>\n",
       "      <td>68.0</td>\n",
       "      <td>7.87</td>\n",
       "      <td>68.0</td>\n",
       "      <td>0.1</td>\n",
       "      <td>63.537231</td>\n",
       "      <td>2978599.0</td>\n",
       "      <td>18.2</td>\n",
       "      <td>18.2</td>\n",
       "      <td>0.454</td>\n",
       "      <td>9.5</td>\n",
       "    </tr>\n",
       "  </tbody>\n",
       "</table>\n",
       "<p>5 rows × 22 columns</p>\n",
       "</div>"
      ],
      "text/plain": [
       "       Country  Year      Status  Life expectancy   Adult Mortality  \\\n",
       "0  Afghanistan  2015  Developing              65.0            263.0   \n",
       "1  Afghanistan  2014  Developing              59.9            271.0   \n",
       "2  Afghanistan  2013  Developing              59.9            268.0   \n",
       "3  Afghanistan  2012  Developing              59.5            272.0   \n",
       "4  Afghanistan  2011  Developing              59.2            275.0   \n",
       "\n",
       "   infant deaths  Alcohol  percentage expenditure  Hepatitis B  Measles   ...  \\\n",
       "0             62     0.01               71.279624         65.0      1154  ...   \n",
       "1             64     0.01               73.523582         62.0       492  ...   \n",
       "2             66     0.01               73.219243         64.0       430  ...   \n",
       "3             69     0.01               78.184215         67.0      2787  ...   \n",
       "4             71     0.01                7.097109         68.0      3013  ...   \n",
       "\n",
       "   Polio  Total expenditure  Diphtheria    HIV/AIDS         GDP  Population  \\\n",
       "0    6.0               8.16         65.0        0.1  584.259210  33736494.0   \n",
       "1   58.0               8.18         62.0        0.1  612.696514    327582.0   \n",
       "2   62.0               8.13         64.0        0.1  631.744976  31731688.0   \n",
       "3   67.0               8.52         67.0        0.1  669.959000   3696958.0   \n",
       "4   68.0               7.87         68.0        0.1   63.537231   2978599.0   \n",
       "\n",
       "    thinness  1-19 years   thinness 5-9 years  \\\n",
       "0                   17.2                 17.3   \n",
       "1                   17.5                 17.5   \n",
       "2                   17.7                 17.7   \n",
       "3                   17.9                 18.0   \n",
       "4                   18.2                 18.2   \n",
       "\n",
       "   Income composition of resources  Schooling  \n",
       "0                            0.479       10.1  \n",
       "1                            0.476       10.0  \n",
       "2                            0.470        9.9  \n",
       "3                            0.463        9.8  \n",
       "4                            0.454        9.5  \n",
       "\n",
       "[5 rows x 22 columns]"
      ]
     },
     "execution_count": 2,
     "metadata": {},
     "output_type": "execute_result"
    }
   ],
   "source": [
    "# Load in data and display first 5 rows\n",
    "df = pd.read_csv('Life Expectancy Data.csv')\n",
    "df.head()"
   ]
  },
  {
   "cell_type": "code",
   "execution_count": 3,
   "id": "b7b806fa-dbfc-4226-aa1f-d7009aaffda7",
   "metadata": {},
   "outputs": [
    {
     "name": "stdout",
     "output_type": "stream",
     "text": [
      "<class 'pandas.core.frame.DataFrame'>\n",
      "RangeIndex: 2938 entries, 0 to 2937\n",
      "Data columns (total 22 columns):\n",
      " #   Column                           Non-Null Count  Dtype  \n",
      "---  ------                           --------------  -----  \n",
      " 0   Country                          2938 non-null   object \n",
      " 1   Year                             2938 non-null   int64  \n",
      " 2   Status                           2938 non-null   object \n",
      " 3   Life expectancy                  2928 non-null   float64\n",
      " 4   Adult Mortality                  2928 non-null   float64\n",
      " 5   infant deaths                    2938 non-null   int64  \n",
      " 6   Alcohol                          2744 non-null   float64\n",
      " 7   percentage expenditure           2938 non-null   float64\n",
      " 8   Hepatitis B                      2385 non-null   float64\n",
      " 9   Measles                          2938 non-null   int64  \n",
      " 10   BMI                             2904 non-null   float64\n",
      " 11  under-five deaths                2938 non-null   int64  \n",
      " 12  Polio                            2919 non-null   float64\n",
      " 13  Total expenditure                2712 non-null   float64\n",
      " 14  Diphtheria                       2919 non-null   float64\n",
      " 15   HIV/AIDS                        2938 non-null   float64\n",
      " 16  GDP                              2490 non-null   float64\n",
      " 17  Population                       2286 non-null   float64\n",
      " 18   thinness  1-19 years            2904 non-null   float64\n",
      " 19   thinness 5-9 years              2904 non-null   float64\n",
      " 20  Income composition of resources  2771 non-null   float64\n",
      " 21  Schooling                        2775 non-null   float64\n",
      "dtypes: float64(16), int64(4), object(2)\n",
      "memory usage: 505.1+ KB\n"
     ]
    }
   ],
   "source": [
    "df.info()"
   ]
  },
  {
   "cell_type": "markdown",
   "id": "150283b4",
   "metadata": {},
   "source": [
    "- 2938 rows and 22 columns\n",
    "- Mostly numerical data with Country and Status listed as strings\n",
    "- Null values in several columns. Highest number in Populations, GDP, Hepatitis, Income composition of resources, and Schooling"
   ]
  },
  {
   "cell_type": "code",
   "execution_count": 4,
   "id": "7293f712-ffd1-4a54-b9ee-2933c8b857e3",
   "metadata": {},
   "outputs": [
    {
     "data": {
      "text/plain": [
       "Country                              0\n",
       "Year                                 0\n",
       "Status                               0\n",
       "Life expectancy                     10\n",
       "Adult Mortality                     10\n",
       "infant deaths                        0\n",
       "Alcohol                            194\n",
       "percentage expenditure               0\n",
       "Hepatitis B                        553\n",
       "Measles                              0\n",
       " BMI                                34\n",
       "under-five deaths                    0\n",
       "Polio                               19\n",
       "Total expenditure                  226\n",
       "Diphtheria                          19\n",
       " HIV/AIDS                            0\n",
       "GDP                                448\n",
       "Population                         652\n",
       " thinness  1-19 years               34\n",
       " thinness 5-9 years                 34\n",
       "Income composition of resources    167\n",
       "Schooling                          163\n",
       "dtype: int64"
      ]
     },
     "execution_count": 4,
     "metadata": {},
     "output_type": "execute_result"
    }
   ],
   "source": [
    "df.isna().sum()"
   ]
  },
  {
   "cell_type": "markdown",
   "id": "a2c3905a",
   "metadata": {},
   "source": [
    "Possible routes of exploration:\n",
    "1. Disease trends by year (Regions vs Global)\n",
    "    a. Percentage expenditure vs disease trends and GDP per country\n",
    "    b. Income composition (does higher quality of life == less disease?) vs disease trends\n",
    "2. Is there a relationship between Schooling and diseases / life expectancy?\n",
    "3. GDP vs life expectancy\n",
    "    a. GDP per capita?\n",
    "\n",
    "*Group by continent, status"
   ]
  },
  {
   "cell_type": "code",
   "execution_count": 5,
   "id": "b0215977",
   "metadata": {},
   "outputs": [],
   "source": [
    "# Getting the relevant columns we want to use for our findings\n",
    "relevant_cols = [\n",
    "    'Country',\n",
    "    'Year',\n",
    "    'Status',\n",
    "    'Life expectancy',\n",
    "    'Adult Mortality',\n",
    "    'under-five deaths',\n",
    "    'percentage expenditure',\n",
    "    'GDP',\n",
    "    'Population',\n",
    "    'Income composition of resources',\n",
    "    'Schooling'\n",
    "]"
   ]
  },
  {
   "cell_type": "code",
   "execution_count": 6,
   "id": "3239fad1",
   "metadata": {},
   "outputs": [
    {
     "ename": "KeyError",
     "evalue": "\"['Life expectancy', 'under-five deaths'] not in index\"",
     "output_type": "error",
     "traceback": [
      "\u001b[0;31m---------------------------------------------------------------------------\u001b[0m",
      "\u001b[0;31mKeyError\u001b[0m                                  Traceback (most recent call last)",
      "Cell \u001b[0;32mIn[6], line 1\u001b[0m\n\u001b[0;32m----> 1\u001b[0m df_relevant \u001b[38;5;241m=\u001b[39m \u001b[43mdf\u001b[49m\u001b[43m[\u001b[49m\u001b[43mrelevant_cols\u001b[49m\u001b[43m]\u001b[49m\n",
      "File \u001b[0;32m/opt/anaconda3/envs/Cohort-Env/lib/python3.8/site-packages/pandas/core/frame.py:3767\u001b[0m, in \u001b[0;36mDataFrame.__getitem__\u001b[0;34m(self, key)\u001b[0m\n\u001b[1;32m   3765\u001b[0m     \u001b[38;5;28;01mif\u001b[39;00m is_iterator(key):\n\u001b[1;32m   3766\u001b[0m         key \u001b[38;5;241m=\u001b[39m \u001b[38;5;28mlist\u001b[39m(key)\n\u001b[0;32m-> 3767\u001b[0m     indexer \u001b[38;5;241m=\u001b[39m \u001b[38;5;28;43mself\u001b[39;49m\u001b[38;5;241;43m.\u001b[39;49m\u001b[43mcolumns\u001b[49m\u001b[38;5;241;43m.\u001b[39;49m\u001b[43m_get_indexer_strict\u001b[49m\u001b[43m(\u001b[49m\u001b[43mkey\u001b[49m\u001b[43m,\u001b[49m\u001b[43m \u001b[49m\u001b[38;5;124;43m\"\u001b[39;49m\u001b[38;5;124;43mcolumns\u001b[39;49m\u001b[38;5;124;43m\"\u001b[39;49m\u001b[43m)\u001b[49m[\u001b[38;5;241m1\u001b[39m]\n\u001b[1;32m   3769\u001b[0m \u001b[38;5;66;03m# take() does not accept boolean indexers\u001b[39;00m\n\u001b[1;32m   3770\u001b[0m \u001b[38;5;28;01mif\u001b[39;00m \u001b[38;5;28mgetattr\u001b[39m(indexer, \u001b[38;5;124m\"\u001b[39m\u001b[38;5;124mdtype\u001b[39m\u001b[38;5;124m\"\u001b[39m, \u001b[38;5;28;01mNone\u001b[39;00m) \u001b[38;5;241m==\u001b[39m \u001b[38;5;28mbool\u001b[39m:\n",
      "File \u001b[0;32m/opt/anaconda3/envs/Cohort-Env/lib/python3.8/site-packages/pandas/core/indexes/base.py:5877\u001b[0m, in \u001b[0;36mIndex._get_indexer_strict\u001b[0;34m(self, key, axis_name)\u001b[0m\n\u001b[1;32m   5874\u001b[0m \u001b[38;5;28;01melse\u001b[39;00m:\n\u001b[1;32m   5875\u001b[0m     keyarr, indexer, new_indexer \u001b[38;5;241m=\u001b[39m \u001b[38;5;28mself\u001b[39m\u001b[38;5;241m.\u001b[39m_reindex_non_unique(keyarr)\n\u001b[0;32m-> 5877\u001b[0m \u001b[38;5;28;43mself\u001b[39;49m\u001b[38;5;241;43m.\u001b[39;49m\u001b[43m_raise_if_missing\u001b[49m\u001b[43m(\u001b[49m\u001b[43mkeyarr\u001b[49m\u001b[43m,\u001b[49m\u001b[43m \u001b[49m\u001b[43mindexer\u001b[49m\u001b[43m,\u001b[49m\u001b[43m \u001b[49m\u001b[43maxis_name\u001b[49m\u001b[43m)\u001b[49m\n\u001b[1;32m   5879\u001b[0m keyarr \u001b[38;5;241m=\u001b[39m \u001b[38;5;28mself\u001b[39m\u001b[38;5;241m.\u001b[39mtake(indexer)\n\u001b[1;32m   5880\u001b[0m \u001b[38;5;28;01mif\u001b[39;00m \u001b[38;5;28misinstance\u001b[39m(key, Index):\n\u001b[1;32m   5881\u001b[0m     \u001b[38;5;66;03m# GH 42790 - Preserve name from an Index\u001b[39;00m\n",
      "File \u001b[0;32m/opt/anaconda3/envs/Cohort-Env/lib/python3.8/site-packages/pandas/core/indexes/base.py:5941\u001b[0m, in \u001b[0;36mIndex._raise_if_missing\u001b[0;34m(self, key, indexer, axis_name)\u001b[0m\n\u001b[1;32m   5938\u001b[0m     \u001b[38;5;28;01mraise\u001b[39;00m \u001b[38;5;167;01mKeyError\u001b[39;00m(\u001b[38;5;124mf\u001b[39m\u001b[38;5;124m\"\u001b[39m\u001b[38;5;124mNone of [\u001b[39m\u001b[38;5;132;01m{\u001b[39;00mkey\u001b[38;5;132;01m}\u001b[39;00m\u001b[38;5;124m] are in the [\u001b[39m\u001b[38;5;132;01m{\u001b[39;00maxis_name\u001b[38;5;132;01m}\u001b[39;00m\u001b[38;5;124m]\u001b[39m\u001b[38;5;124m\"\u001b[39m)\n\u001b[1;32m   5940\u001b[0m not_found \u001b[38;5;241m=\u001b[39m \u001b[38;5;28mlist\u001b[39m(ensure_index(key)[missing_mask\u001b[38;5;241m.\u001b[39mnonzero()[\u001b[38;5;241m0\u001b[39m]]\u001b[38;5;241m.\u001b[39munique())\n\u001b[0;32m-> 5941\u001b[0m \u001b[38;5;28;01mraise\u001b[39;00m \u001b[38;5;167;01mKeyError\u001b[39;00m(\u001b[38;5;124mf\u001b[39m\u001b[38;5;124m\"\u001b[39m\u001b[38;5;132;01m{\u001b[39;00mnot_found\u001b[38;5;132;01m}\u001b[39;00m\u001b[38;5;124m not in index\u001b[39m\u001b[38;5;124m\"\u001b[39m)\n",
      "\u001b[0;31mKeyError\u001b[0m: \"['Life expectancy', 'under-five deaths'] not in index\""
     ]
    }
   ],
   "source": [
    "# creating a new df called df_relevant with relevant cols\n",
    "# causes an error because our relevant_cols has col names that don't exist\n",
    "df_relevant = df[relevant_cols]"
   ]
  },
  {
   "cell_type": "code",
   "execution_count": 17,
   "id": "c90e5ae2",
   "metadata": {},
   "outputs": [
    {
     "data": {
      "text/plain": [
       "Index(['Country', 'Year', 'Status', 'Life expectancy ', 'Adult Mortality',\n",
       "       'infant deaths', 'Alcohol', 'percentage expenditure', 'Hepatitis B',\n",
       "       'Measles ', ' BMI ', 'under-five deaths ', 'Polio', 'Total expenditure',\n",
       "       'Diphtheria ', ' HIV/AIDS', 'GDP', 'Population',\n",
       "       ' thinness  1-19 years', ' thinness 5-9 years',\n",
       "       'Income composition of resources', 'Schooling'],\n",
       "      dtype='object')"
      ]
     },
     "execution_count": 17,
     "metadata": {},
     "output_type": "execute_result"
    }
   ],
   "source": [
    "df.columns"
   ]
  },
  {
   "cell_type": "code",
   "execution_count": 16,
   "id": "38df7be0",
   "metadata": {},
   "outputs": [
    {
     "data": {
      "text/plain": [
       "Index(['Country', 'Year', 'Status', 'Life expectancy', 'Adult Mortality',\n",
       "       'infant deaths', 'Alcohol', 'percentage expenditure', 'Hepatitis B',\n",
       "       'Measles', 'BMI', 'under-five deaths', 'Polio', 'Total expenditure',\n",
       "       'Diphtheria', 'HIV/AIDS', 'GDP', 'Population', 'thinness  1-19 years',\n",
       "       'thinness 5-9 years', 'Income composition of resources', 'Schooling'],\n",
       "      dtype='object')"
      ]
     },
     "execution_count": 16,
     "metadata": {},
     "output_type": "execute_result"
    }
   ],
   "source": [
    "df.columns.str.strip()"
   ]
  },
  {
   "cell_type": "code",
   "execution_count": 19,
   "id": "27bebc96",
   "metadata": {},
   "outputs": [
    {
     "data": {
      "text/plain": [
       "Index(['Country', 'Year', 'Status', 'Life expectancy', 'Adult Mortality',\n",
       "       'infant deaths', 'Alcohol', 'percentage expenditure', 'Hepatitis B',\n",
       "       'Measles ', ' BMI ', 'under-five deaths', 'Polio', 'Total expenditure',\n",
       "       'Diphtheria ', ' HIV/AIDS', 'GDP', 'Population',\n",
       "       ' thinness  1-19 years', ' thinness 5-9 years',\n",
       "       'Income composition of resources', 'Schooling'],\n",
       "      dtype='object')"
      ]
     },
     "execution_count": 19,
     "metadata": {},
     "output_type": "execute_result"
    }
   ],
   "source": [
    "# stripping column names without whitespace\n",
    "df = df.rename(columns={'Life expectancy ':'Life expectancy', 'under-five deaths ':'under-five deaths'})\n",
    "df.columns"
   ]
  },
  {
   "cell_type": "code",
   "execution_count": 20,
   "id": "60ae9fca",
   "metadata": {},
   "outputs": [
    {
     "data": {
      "text/html": [
       "<div>\n",
       "<style scoped>\n",
       "    .dataframe tbody tr th:only-of-type {\n",
       "        vertical-align: middle;\n",
       "    }\n",
       "\n",
       "    .dataframe tbody tr th {\n",
       "        vertical-align: top;\n",
       "    }\n",
       "\n",
       "    .dataframe thead th {\n",
       "        text-align: right;\n",
       "    }\n",
       "</style>\n",
       "<table border=\"1\" class=\"dataframe\">\n",
       "  <thead>\n",
       "    <tr style=\"text-align: right;\">\n",
       "      <th></th>\n",
       "      <th>Country</th>\n",
       "      <th>Year</th>\n",
       "      <th>Status</th>\n",
       "      <th>Life expectancy</th>\n",
       "      <th>Adult Mortality</th>\n",
       "      <th>under-five deaths</th>\n",
       "      <th>percentage expenditure</th>\n",
       "      <th>GDP</th>\n",
       "      <th>Population</th>\n",
       "      <th>Income composition of resources</th>\n",
       "      <th>Schooling</th>\n",
       "    </tr>\n",
       "  </thead>\n",
       "  <tbody>\n",
       "    <tr>\n",
       "      <th>0</th>\n",
       "      <td>Afghanistan</td>\n",
       "      <td>2015</td>\n",
       "      <td>Developing</td>\n",
       "      <td>65.0</td>\n",
       "      <td>263.0</td>\n",
       "      <td>83</td>\n",
       "      <td>71.279624</td>\n",
       "      <td>584.259210</td>\n",
       "      <td>33736494.0</td>\n",
       "      <td>0.479</td>\n",
       "      <td>10.1</td>\n",
       "    </tr>\n",
       "    <tr>\n",
       "      <th>1</th>\n",
       "      <td>Afghanistan</td>\n",
       "      <td>2014</td>\n",
       "      <td>Developing</td>\n",
       "      <td>59.9</td>\n",
       "      <td>271.0</td>\n",
       "      <td>86</td>\n",
       "      <td>73.523582</td>\n",
       "      <td>612.696514</td>\n",
       "      <td>327582.0</td>\n",
       "      <td>0.476</td>\n",
       "      <td>10.0</td>\n",
       "    </tr>\n",
       "    <tr>\n",
       "      <th>2</th>\n",
       "      <td>Afghanistan</td>\n",
       "      <td>2013</td>\n",
       "      <td>Developing</td>\n",
       "      <td>59.9</td>\n",
       "      <td>268.0</td>\n",
       "      <td>89</td>\n",
       "      <td>73.219243</td>\n",
       "      <td>631.744976</td>\n",
       "      <td>31731688.0</td>\n",
       "      <td>0.470</td>\n",
       "      <td>9.9</td>\n",
       "    </tr>\n",
       "    <tr>\n",
       "      <th>3</th>\n",
       "      <td>Afghanistan</td>\n",
       "      <td>2012</td>\n",
       "      <td>Developing</td>\n",
       "      <td>59.5</td>\n",
       "      <td>272.0</td>\n",
       "      <td>93</td>\n",
       "      <td>78.184215</td>\n",
       "      <td>669.959000</td>\n",
       "      <td>3696958.0</td>\n",
       "      <td>0.463</td>\n",
       "      <td>9.8</td>\n",
       "    </tr>\n",
       "    <tr>\n",
       "      <th>4</th>\n",
       "      <td>Afghanistan</td>\n",
       "      <td>2011</td>\n",
       "      <td>Developing</td>\n",
       "      <td>59.2</td>\n",
       "      <td>275.0</td>\n",
       "      <td>97</td>\n",
       "      <td>7.097109</td>\n",
       "      <td>63.537231</td>\n",
       "      <td>2978599.0</td>\n",
       "      <td>0.454</td>\n",
       "      <td>9.5</td>\n",
       "    </tr>\n",
       "    <tr>\n",
       "      <th>...</th>\n",
       "      <td>...</td>\n",
       "      <td>...</td>\n",
       "      <td>...</td>\n",
       "      <td>...</td>\n",
       "      <td>...</td>\n",
       "      <td>...</td>\n",
       "      <td>...</td>\n",
       "      <td>...</td>\n",
       "      <td>...</td>\n",
       "      <td>...</td>\n",
       "      <td>...</td>\n",
       "    </tr>\n",
       "    <tr>\n",
       "      <th>2933</th>\n",
       "      <td>Zimbabwe</td>\n",
       "      <td>2004</td>\n",
       "      <td>Developing</td>\n",
       "      <td>44.3</td>\n",
       "      <td>723.0</td>\n",
       "      <td>42</td>\n",
       "      <td>0.000000</td>\n",
       "      <td>454.366654</td>\n",
       "      <td>12777511.0</td>\n",
       "      <td>0.407</td>\n",
       "      <td>9.2</td>\n",
       "    </tr>\n",
       "    <tr>\n",
       "      <th>2934</th>\n",
       "      <td>Zimbabwe</td>\n",
       "      <td>2003</td>\n",
       "      <td>Developing</td>\n",
       "      <td>44.5</td>\n",
       "      <td>715.0</td>\n",
       "      <td>41</td>\n",
       "      <td>0.000000</td>\n",
       "      <td>453.351155</td>\n",
       "      <td>12633897.0</td>\n",
       "      <td>0.418</td>\n",
       "      <td>9.5</td>\n",
       "    </tr>\n",
       "    <tr>\n",
       "      <th>2935</th>\n",
       "      <td>Zimbabwe</td>\n",
       "      <td>2002</td>\n",
       "      <td>Developing</td>\n",
       "      <td>44.8</td>\n",
       "      <td>73.0</td>\n",
       "      <td>40</td>\n",
       "      <td>0.000000</td>\n",
       "      <td>57.348340</td>\n",
       "      <td>125525.0</td>\n",
       "      <td>0.427</td>\n",
       "      <td>10.0</td>\n",
       "    </tr>\n",
       "    <tr>\n",
       "      <th>2936</th>\n",
       "      <td>Zimbabwe</td>\n",
       "      <td>2001</td>\n",
       "      <td>Developing</td>\n",
       "      <td>45.3</td>\n",
       "      <td>686.0</td>\n",
       "      <td>39</td>\n",
       "      <td>0.000000</td>\n",
       "      <td>548.587312</td>\n",
       "      <td>12366165.0</td>\n",
       "      <td>0.427</td>\n",
       "      <td>9.8</td>\n",
       "    </tr>\n",
       "    <tr>\n",
       "      <th>2937</th>\n",
       "      <td>Zimbabwe</td>\n",
       "      <td>2000</td>\n",
       "      <td>Developing</td>\n",
       "      <td>46.0</td>\n",
       "      <td>665.0</td>\n",
       "      <td>39</td>\n",
       "      <td>0.000000</td>\n",
       "      <td>547.358878</td>\n",
       "      <td>12222251.0</td>\n",
       "      <td>0.434</td>\n",
       "      <td>9.8</td>\n",
       "    </tr>\n",
       "  </tbody>\n",
       "</table>\n",
       "<p>2938 rows × 11 columns</p>\n",
       "</div>"
      ],
      "text/plain": [
       "          Country  Year      Status  Life expectancy  Adult Mortality  \\\n",
       "0     Afghanistan  2015  Developing             65.0            263.0   \n",
       "1     Afghanistan  2014  Developing             59.9            271.0   \n",
       "2     Afghanistan  2013  Developing             59.9            268.0   \n",
       "3     Afghanistan  2012  Developing             59.5            272.0   \n",
       "4     Afghanistan  2011  Developing             59.2            275.0   \n",
       "...           ...   ...         ...              ...              ...   \n",
       "2933     Zimbabwe  2004  Developing             44.3            723.0   \n",
       "2934     Zimbabwe  2003  Developing             44.5            715.0   \n",
       "2935     Zimbabwe  2002  Developing             44.8             73.0   \n",
       "2936     Zimbabwe  2001  Developing             45.3            686.0   \n",
       "2937     Zimbabwe  2000  Developing             46.0            665.0   \n",
       "\n",
       "      under-five deaths  percentage expenditure         GDP  Population  \\\n",
       "0                    83               71.279624  584.259210  33736494.0   \n",
       "1                    86               73.523582  612.696514    327582.0   \n",
       "2                    89               73.219243  631.744976  31731688.0   \n",
       "3                    93               78.184215  669.959000   3696958.0   \n",
       "4                    97                7.097109   63.537231   2978599.0   \n",
       "...                 ...                     ...         ...         ...   \n",
       "2933                 42                0.000000  454.366654  12777511.0   \n",
       "2934                 41                0.000000  453.351155  12633897.0   \n",
       "2935                 40                0.000000   57.348340    125525.0   \n",
       "2936                 39                0.000000  548.587312  12366165.0   \n",
       "2937                 39                0.000000  547.358878  12222251.0   \n",
       "\n",
       "      Income composition of resources  Schooling  \n",
       "0                               0.479       10.1  \n",
       "1                               0.476       10.0  \n",
       "2                               0.470        9.9  \n",
       "3                               0.463        9.8  \n",
       "4                               0.454        9.5  \n",
       "...                               ...        ...  \n",
       "2933                            0.407        9.2  \n",
       "2934                            0.418        9.5  \n",
       "2935                            0.427       10.0  \n",
       "2936                            0.427        9.8  \n",
       "2937                            0.434        9.8  \n",
       "\n",
       "[2938 rows x 11 columns]"
      ]
     },
     "execution_count": 20,
     "metadata": {},
     "output_type": "execute_result"
    }
   ],
   "source": [
    "# now we can create a new df called df_relevant with relevant cols\n",
    "df_relevant = df[relevant_cols]\n",
    "df_relevant"
   ]
  },
  {
   "cell_type": "code",
   "execution_count": 21,
   "id": "a41b031a-288d-430d-bdb5-ced56749b84f",
   "metadata": {
    "scrolled": true
   },
   "outputs": [
    {
     "data": {
      "text/html": [
       "<div>\n",
       "<style scoped>\n",
       "    .dataframe tbody tr th:only-of-type {\n",
       "        vertical-align: middle;\n",
       "    }\n",
       "\n",
       "    .dataframe tbody tr th {\n",
       "        vertical-align: top;\n",
       "    }\n",
       "\n",
       "    .dataframe thead th {\n",
       "        text-align: right;\n",
       "    }\n",
       "</style>\n",
       "<table border=\"1\" class=\"dataframe\">\n",
       "  <thead>\n",
       "    <tr style=\"text-align: right;\">\n",
       "      <th></th>\n",
       "      <th>Year</th>\n",
       "      <th>Life expectancy</th>\n",
       "      <th>Adult Mortality</th>\n",
       "      <th>under-five deaths</th>\n",
       "      <th>percentage expenditure</th>\n",
       "      <th>GDP</th>\n",
       "      <th>Population</th>\n",
       "      <th>Income composition of resources</th>\n",
       "      <th>Schooling</th>\n",
       "    </tr>\n",
       "  </thead>\n",
       "  <tbody>\n",
       "    <tr>\n",
       "      <th>count</th>\n",
       "      <td>2938.000000</td>\n",
       "      <td>2928.000000</td>\n",
       "      <td>2928.000000</td>\n",
       "      <td>2938.000000</td>\n",
       "      <td>2938.000000</td>\n",
       "      <td>2490.000000</td>\n",
       "      <td>2.286000e+03</td>\n",
       "      <td>2771.000000</td>\n",
       "      <td>2775.000000</td>\n",
       "    </tr>\n",
       "    <tr>\n",
       "      <th>mean</th>\n",
       "      <td>2007.518720</td>\n",
       "      <td>69.224932</td>\n",
       "      <td>164.796448</td>\n",
       "      <td>42.035739</td>\n",
       "      <td>738.251295</td>\n",
       "      <td>7483.158469</td>\n",
       "      <td>1.275338e+07</td>\n",
       "      <td>0.627551</td>\n",
       "      <td>11.992793</td>\n",
       "    </tr>\n",
       "    <tr>\n",
       "      <th>std</th>\n",
       "      <td>4.613841</td>\n",
       "      <td>9.523867</td>\n",
       "      <td>124.292079</td>\n",
       "      <td>160.445548</td>\n",
       "      <td>1987.914858</td>\n",
       "      <td>14270.169342</td>\n",
       "      <td>6.101210e+07</td>\n",
       "      <td>0.210904</td>\n",
       "      <td>3.358920</td>\n",
       "    </tr>\n",
       "    <tr>\n",
       "      <th>min</th>\n",
       "      <td>2000.000000</td>\n",
       "      <td>36.300000</td>\n",
       "      <td>1.000000</td>\n",
       "      <td>0.000000</td>\n",
       "      <td>0.000000</td>\n",
       "      <td>1.681350</td>\n",
       "      <td>3.400000e+01</td>\n",
       "      <td>0.000000</td>\n",
       "      <td>0.000000</td>\n",
       "    </tr>\n",
       "    <tr>\n",
       "      <th>25%</th>\n",
       "      <td>2004.000000</td>\n",
       "      <td>63.100000</td>\n",
       "      <td>74.000000</td>\n",
       "      <td>0.000000</td>\n",
       "      <td>4.685343</td>\n",
       "      <td>463.935626</td>\n",
       "      <td>1.957932e+05</td>\n",
       "      <td>0.493000</td>\n",
       "      <td>10.100000</td>\n",
       "    </tr>\n",
       "    <tr>\n",
       "      <th>50%</th>\n",
       "      <td>2008.000000</td>\n",
       "      <td>72.100000</td>\n",
       "      <td>144.000000</td>\n",
       "      <td>4.000000</td>\n",
       "      <td>64.912906</td>\n",
       "      <td>1766.947595</td>\n",
       "      <td>1.386542e+06</td>\n",
       "      <td>0.677000</td>\n",
       "      <td>12.300000</td>\n",
       "    </tr>\n",
       "    <tr>\n",
       "      <th>75%</th>\n",
       "      <td>2012.000000</td>\n",
       "      <td>75.700000</td>\n",
       "      <td>228.000000</td>\n",
       "      <td>28.000000</td>\n",
       "      <td>441.534144</td>\n",
       "      <td>5910.806335</td>\n",
       "      <td>7.420359e+06</td>\n",
       "      <td>0.779000</td>\n",
       "      <td>14.300000</td>\n",
       "    </tr>\n",
       "    <tr>\n",
       "      <th>max</th>\n",
       "      <td>2015.000000</td>\n",
       "      <td>89.000000</td>\n",
       "      <td>723.000000</td>\n",
       "      <td>2500.000000</td>\n",
       "      <td>19479.911610</td>\n",
       "      <td>119172.741800</td>\n",
       "      <td>1.293859e+09</td>\n",
       "      <td>0.948000</td>\n",
       "      <td>20.700000</td>\n",
       "    </tr>\n",
       "  </tbody>\n",
       "</table>\n",
       "</div>"
      ],
      "text/plain": [
       "              Year  Life expectancy  Adult Mortality  under-five deaths  \\\n",
       "count  2938.000000      2928.000000      2928.000000        2938.000000   \n",
       "mean   2007.518720        69.224932       164.796448          42.035739   \n",
       "std       4.613841         9.523867       124.292079         160.445548   \n",
       "min    2000.000000        36.300000         1.000000           0.000000   \n",
       "25%    2004.000000        63.100000        74.000000           0.000000   \n",
       "50%    2008.000000        72.100000       144.000000           4.000000   \n",
       "75%    2012.000000        75.700000       228.000000          28.000000   \n",
       "max    2015.000000        89.000000       723.000000        2500.000000   \n",
       "\n",
       "       percentage expenditure            GDP    Population  \\\n",
       "count             2938.000000    2490.000000  2.286000e+03   \n",
       "mean               738.251295    7483.158469  1.275338e+07   \n",
       "std               1987.914858   14270.169342  6.101210e+07   \n",
       "min                  0.000000       1.681350  3.400000e+01   \n",
       "25%                  4.685343     463.935626  1.957932e+05   \n",
       "50%                 64.912906    1766.947595  1.386542e+06   \n",
       "75%                441.534144    5910.806335  7.420359e+06   \n",
       "max              19479.911610  119172.741800  1.293859e+09   \n",
       "\n",
       "       Income composition of resources    Schooling  \n",
       "count                      2771.000000  2775.000000  \n",
       "mean                          0.627551    11.992793  \n",
       "std                           0.210904     3.358920  \n",
       "min                           0.000000     0.000000  \n",
       "25%                           0.493000    10.100000  \n",
       "50%                           0.677000    12.300000  \n",
       "75%                           0.779000    14.300000  \n",
       "max                           0.948000    20.700000  "
      ]
     },
     "execution_count": 21,
     "metadata": {},
     "output_type": "execute_result"
    }
   ],
   "source": [
    "df_relevant.describe()"
   ]
  },
  {
   "cell_type": "markdown",
   "id": "25a99c91",
   "metadata": {},
   "source": [
    "- Wide range between min/max for Life expetancy\n",
    "- Scientific notation in population\n",
    "- under-five deaths mean is highly skewed upward (mean = 42; median = 4)\n",
    "- At least one country that has 0 years of schooling"
   ]
  },
  {
   "cell_type": "code",
   "execution_count": 22,
   "id": "f85f65a7-09e5-4be5-9730-cf5292a02aa2",
   "metadata": {},
   "outputs": [
    {
     "data": {
      "text/html": [
       "<div>\n",
       "<style scoped>\n",
       "    .dataframe tbody tr th:only-of-type {\n",
       "        vertical-align: middle;\n",
       "    }\n",
       "\n",
       "    .dataframe tbody tr th {\n",
       "        vertical-align: top;\n",
       "    }\n",
       "\n",
       "    .dataframe thead th {\n",
       "        text-align: right;\n",
       "    }\n",
       "</style>\n",
       "<table border=\"1\" class=\"dataframe\">\n",
       "  <thead>\n",
       "    <tr style=\"text-align: right;\">\n",
       "      <th></th>\n",
       "      <th>Country</th>\n",
       "      <th>Status</th>\n",
       "    </tr>\n",
       "  </thead>\n",
       "  <tbody>\n",
       "    <tr>\n",
       "      <th>count</th>\n",
       "      <td>2938</td>\n",
       "      <td>2938</td>\n",
       "    </tr>\n",
       "    <tr>\n",
       "      <th>unique</th>\n",
       "      <td>193</td>\n",
       "      <td>2</td>\n",
       "    </tr>\n",
       "    <tr>\n",
       "      <th>top</th>\n",
       "      <td>Afghanistan</td>\n",
       "      <td>Developing</td>\n",
       "    </tr>\n",
       "    <tr>\n",
       "      <th>freq</th>\n",
       "      <td>16</td>\n",
       "      <td>2426</td>\n",
       "    </tr>\n",
       "  </tbody>\n",
       "</table>\n",
       "</div>"
      ],
      "text/plain": [
       "            Country      Status\n",
       "count          2938        2938\n",
       "unique          193           2\n",
       "top     Afghanistan  Developing\n",
       "freq             16        2426"
      ]
     },
     "execution_count": 22,
     "metadata": {},
     "output_type": "execute_result"
    }
   ],
   "source": [
    "df_relevant.describe(include='object')"
   ]
  },
  {
   "cell_type": "code",
   "execution_count": 23,
   "id": "c26b7241",
   "metadata": {},
   "outputs": [
    {
     "data": {
      "text/plain": [
       "Status\n",
       "Developing    2426\n",
       "Developed      512\n",
       "Name: count, dtype: int64"
      ]
     },
     "execution_count": 23,
     "metadata": {},
     "output_type": "execute_result"
    }
   ],
   "source": [
    "df_relevant['Status'].value_counts()"
   ]
  },
  {
   "cell_type": "markdown",
   "id": "6fe28355",
   "metadata": {},
   "source": [
    "- 193 unique countries with statuses: 'Developed' or 'Developing'"
   ]
  },
  {
   "cell_type": "code",
   "execution_count": 24,
   "id": "918e9e94",
   "metadata": {},
   "outputs": [],
   "source": [
    "# Feature Engineer column to group countries by Region\n",
    "# country-by-continent.json src: https://github.com/samayo/country-json/blob/master/src/country-by-continent.json\n",
    "\n",
    "import json\n",
    "with open('country-by-continent.json') as file:\n",
    "    country_continent_converter = json.load(file)"
   ]
  },
  {
   "cell_type": "code",
   "execution_count": 25,
   "id": "a048e323",
   "metadata": {},
   "outputs": [
    {
     "name": "stdout",
     "output_type": "stream",
     "text": [
      "[{'country': 'Afghanistan', 'continent': 'Asia'}, {'country': 'Albania', 'continent': 'Europe'}, {'country': 'Algeria', 'continent': 'Africa'}, {'country': 'American Samoa', 'continent': 'Oceania'}, {'country': 'Andorra', 'continent': 'Europe'}, {'country': 'Angola', 'continent': 'Africa'}, {'country': 'Anguilla', 'continent': 'North America'}, {'country': 'Antarctica', 'continent': 'Antarctica'}, {'country': 'Antigua and Barbuda', 'continent': 'North America'}, {'country': 'Argentina', 'continent': 'South America'}, {'country': 'Armenia', 'continent': 'Asia'}, {'country': 'Aruba', 'continent': 'North America'}, {'country': 'Australia', 'continent': 'Oceania'}, {'country': 'Austria', 'continent': 'Europe'}, {'country': 'Azerbaijan', 'continent': 'Asia'}, {'country': 'Bahamas', 'continent': 'North America'}, {'country': 'Bahrain', 'continent': 'Asia'}, {'country': 'Bangladesh', 'continent': 'Asia'}, {'country': 'Barbados', 'continent': 'North America'}, {'country': 'Belarus', 'continent': 'Europe'}, {'country': 'Belgium', 'continent': 'Europe'}, {'country': 'Belize', 'continent': 'North America'}, {'country': 'Benin', 'continent': 'Africa'}, {'country': 'Bermuda', 'continent': 'North America'}, {'country': 'Bhutan', 'continent': 'Asia'}, {'country': 'Bolivia', 'continent': 'South America'}, {'country': 'Bosnia and Herzegovina', 'continent': 'Europe'}, {'country': 'Botswana', 'continent': 'Africa'}, {'country': 'Bouvet Island', 'continent': 'Antarctica'}, {'country': 'Brazil', 'continent': 'South America'}, {'country': 'British Indian Ocean Territory', 'continent': 'Africa'}, {'country': 'Brunei', 'continent': 'Asia'}, {'country': 'Bulgaria', 'continent': 'Europe'}, {'country': 'Burkina Faso', 'continent': 'Africa'}, {'country': 'Burundi', 'continent': 'Africa'}, {'country': 'Cambodia', 'continent': 'Asia'}, {'country': 'Cameroon', 'continent': 'Africa'}, {'country': 'Canada', 'continent': 'North America'}, {'country': 'Cape Verde', 'continent': 'Africa'}, {'country': 'Cayman Islands', 'continent': 'North America'}, {'country': 'Central African Republic', 'continent': 'Africa'}, {'country': 'Chad', 'continent': 'Africa'}, {'country': 'Chile', 'continent': 'South America'}, {'country': 'China', 'continent': 'Asia'}, {'country': 'Christmas Island', 'continent': 'Oceania'}, {'country': 'Cocos (Keeling) Islands', 'continent': 'Oceania'}, {'country': 'Colombia', 'continent': 'South America'}, {'country': 'Comoros', 'continent': 'Africa'}, {'country': 'Congo', 'continent': 'Africa'}, {'country': 'Cook Islands', 'continent': 'Oceania'}, {'country': 'Costa Rica', 'continent': 'North America'}, {'country': 'Croatia', 'continent': 'Europe'}, {'country': 'Cuba', 'continent': 'North America'}, {'country': 'Cyprus', 'continent': 'Asia'}, {'country': 'Czech Republic', 'continent': 'Europe'}, {'country': 'Denmark', 'continent': 'Europe'}, {'country': 'Djibouti', 'continent': 'Africa'}, {'country': 'Dominica', 'continent': 'North America'}, {'country': 'Dominican Republic', 'continent': 'North America'}, {'country': 'East Timor', 'continent': 'Asia'}, {'country': 'Ecuador', 'continent': 'South America'}, {'country': 'Egypt', 'continent': 'Africa'}, {'country': 'El Salvador', 'continent': 'North America'}, {'country': 'England', 'continent': 'Europe'}, {'country': 'Equatorial Guinea', 'continent': 'Africa'}, {'country': 'Eritrea', 'continent': 'Africa'}, {'country': 'Estonia', 'continent': 'Europe'}, {'country': 'Eswatini', 'continent': 'Africa'}, {'country': 'Ethiopia', 'continent': 'Africa'}, {'country': 'Falkland Islands', 'continent': 'South America'}, {'country': 'Faroe Islands', 'continent': 'Europe'}, {'country': 'Fiji Islands', 'continent': 'Oceania'}, {'country': 'Finland', 'continent': 'Europe'}, {'country': 'France', 'continent': 'Europe'}, {'country': 'French Guiana', 'continent': 'South America'}, {'country': 'French Polynesia', 'continent': 'Oceania'}, {'country': 'French Southern territories', 'continent': 'Antarctica'}, {'country': 'Gabon', 'continent': 'Africa'}, {'country': 'Gambia', 'continent': 'Africa'}, {'country': 'Georgia', 'continent': 'Asia'}, {'country': 'Germany', 'continent': 'Europe'}, {'country': 'Ghana', 'continent': 'Africa'}, {'country': 'Gibraltar', 'continent': 'Europe'}, {'country': 'Greece', 'continent': 'Europe'}, {'country': 'Greenland', 'continent': 'North America'}, {'country': 'Grenada', 'continent': 'North America'}, {'country': 'Guadeloupe', 'continent': 'North America'}, {'country': 'Guam', 'continent': 'Oceania'}, {'country': 'Guatemala', 'continent': 'North America'}, {'country': 'Guinea', 'continent': 'Africa'}, {'country': 'Guinea-Bissau', 'continent': 'Africa'}, {'country': 'Guyana', 'continent': 'South America'}, {'country': 'Haiti', 'continent': 'North America'}, {'country': 'Heard Island and McDonald Islands', 'continent': 'Antarctica'}, {'country': 'Holy See (Vatican City State)', 'continent': 'Europe'}, {'country': 'Honduras', 'continent': 'North America'}, {'country': 'Hong Kong', 'continent': 'Asia'}, {'country': 'Hungary', 'continent': 'Europe'}, {'country': 'Iceland', 'continent': 'Europe'}, {'country': 'India', 'continent': 'Asia'}, {'country': 'Indonesia', 'continent': 'Asia'}, {'country': 'Iran', 'continent': 'Asia'}, {'country': 'Iraq', 'continent': 'Asia'}, {'country': 'Ireland', 'continent': 'Europe'}, {'country': 'Israel', 'continent': 'Asia'}, {'country': 'Italy', 'continent': 'Europe'}, {'country': 'Ivory Coast', 'continent': 'Africa'}, {'country': 'Jamaica', 'continent': 'North America'}, {'country': 'Japan', 'continent': 'Asia'}, {'country': 'Jordan', 'continent': 'Asia'}, {'country': 'Kazakhstan', 'continent': 'Asia'}, {'country': 'Kenya', 'continent': 'Africa'}, {'country': 'Kiribati', 'continent': 'Oceania'}, {'country': 'Kuwait', 'continent': 'Asia'}, {'country': 'Kyrgyzstan', 'continent': 'Asia'}, {'country': 'Laos', 'continent': 'Asia'}, {'country': 'Latvia', 'continent': 'Europe'}, {'country': 'Lebanon', 'continent': 'Asia'}, {'country': 'Lesotho', 'continent': 'Africa'}, {'country': 'Liberia', 'continent': 'Africa'}, {'country': 'Libya', 'continent': 'Africa'}, {'country': 'Liechtenstein', 'continent': 'Europe'}, {'country': 'Lithuania', 'continent': 'Europe'}, {'country': 'Luxembourg', 'continent': 'Europe'}, {'country': 'Macao', 'continent': 'Asia'}, {'country': 'North Macedonia', 'continent': 'Europe'}, {'country': 'Madagascar', 'continent': 'Africa'}, {'country': 'Malawi', 'continent': 'Africa'}, {'country': 'Malaysia', 'continent': 'Asia'}, {'country': 'Maldives', 'continent': 'Asia'}, {'country': 'Mali', 'continent': 'Africa'}, {'country': 'Malta', 'continent': 'Europe'}, {'country': 'Marshall Islands', 'continent': 'Oceania'}, {'country': 'Martinique', 'continent': 'North America'}, {'country': 'Mauritania', 'continent': 'Africa'}, {'country': 'Mauritius', 'continent': 'Africa'}, {'country': 'Mayotte', 'continent': 'Africa'}, {'country': 'Mexico', 'continent': 'North America'}, {'country': 'Micronesia, Federated States of', 'continent': 'Oceania'}, {'country': 'Moldova', 'continent': 'Europe'}, {'country': 'Monaco', 'continent': 'Europe'}, {'country': 'Mongolia', 'continent': 'Asia'}, {'country': 'Montenegro', 'continent': 'Europe'}, {'country': 'Montserrat', 'continent': 'North America'}, {'country': 'Morocco', 'continent': 'Africa'}, {'country': 'Mozambique', 'continent': 'Africa'}, {'country': 'Myanmar', 'continent': 'Asia'}, {'country': 'Namibia', 'continent': 'Africa'}, {'country': 'Nauru', 'continent': 'Oceania'}, {'country': 'Nepal', 'continent': 'Asia'}, {'country': 'Netherlands', 'continent': 'Europe'}, {'country': 'Netherlands Antilles', 'continent': 'North America'}, {'country': 'New Caledonia', 'continent': 'Oceania'}, {'country': 'New Zealand', 'continent': 'Oceania'}, {'country': 'Nicaragua', 'continent': 'North America'}, {'country': 'Niger', 'continent': 'Africa'}, {'country': 'Nigeria', 'continent': 'Africa'}, {'country': 'Niue', 'continent': 'Oceania'}, {'country': 'Norfolk Island', 'continent': 'Oceania'}, {'country': 'North Korea', 'continent': 'Asia'}, {'country': 'Northern Ireland', 'continent': 'Europe'}, {'country': 'Northern Mariana Islands', 'continent': 'Oceania'}, {'country': 'Norway', 'continent': 'Europe'}, {'country': 'Oman', 'continent': 'Asia'}, {'country': 'Pakistan', 'continent': 'Asia'}, {'country': 'Palau', 'continent': 'Oceania'}, {'country': 'Palestine', 'continent': 'Asia'}, {'country': 'Panama', 'continent': 'North America'}, {'country': 'Papua New Guinea', 'continent': 'Oceania'}, {'country': 'Paraguay', 'continent': 'South America'}, {'country': 'Peru', 'continent': 'South America'}, {'country': 'Philippines', 'continent': 'Asia'}, {'country': 'Pitcairn', 'continent': 'Oceania'}, {'country': 'Poland', 'continent': 'Europe'}, {'country': 'Portugal', 'continent': 'Europe'}, {'country': 'Puerto Rico', 'continent': 'North America'}, {'country': 'Qatar', 'continent': 'Asia'}, {'country': 'Reunion', 'continent': 'Africa'}, {'country': 'Romania', 'continent': 'Europe'}, {'country': 'Russia', 'continent': 'Europe'}, {'country': 'Rwanda', 'continent': 'Africa'}, {'country': 'Saint Helena', 'continent': 'Africa'}, {'country': 'Saint Kitts and Nevis', 'continent': 'North America'}, {'country': 'Saint Lucia', 'continent': 'North America'}, {'country': 'Saint Pierre and Miquelon', 'continent': 'North America'}, {'country': 'Saint Vincent and the Grenadines', 'continent': 'North America'}, {'country': 'Samoa', 'continent': 'Oceania'}, {'country': 'San Marino', 'continent': 'Europe'}, {'country': 'Sao Tome and Principe', 'continent': 'Africa'}, {'country': 'Saudi Arabia', 'continent': 'Asia'}, {'country': 'Scotland', 'continent': 'Europe'}, {'country': 'Senegal', 'continent': 'Africa'}, {'country': 'Serbia', 'continent': 'Europe'}, {'country': 'Seychelles', 'continent': 'Africa'}, {'country': 'Sierra Leone', 'continent': 'Africa'}, {'country': 'Singapore', 'continent': 'Asia'}, {'country': 'Slovakia', 'continent': 'Europe'}, {'country': 'Slovenia', 'continent': 'Europe'}, {'country': 'Solomon Islands', 'continent': 'Oceania'}, {'country': 'Somalia', 'continent': 'Africa'}, {'country': 'South Africa', 'continent': 'Africa'}, {'country': 'South Georgia and the South Sandwich Islands', 'continent': 'Antarctica'}, {'country': 'South Korea', 'continent': 'Asia'}, {'country': 'South Sudan', 'continent': 'Africa'}, {'country': 'Spain', 'continent': 'Europe'}, {'country': 'Sri Lanka', 'continent': 'Asia'}, {'country': 'Sudan', 'continent': 'Africa'}, {'country': 'Suriname', 'continent': 'South America'}, {'country': 'Svalbard and Jan Mayen', 'continent': 'Europe'}, {'country': 'Sweden', 'continent': 'Europe'}, {'country': 'Switzerland', 'continent': 'Europe'}, {'country': 'Syria', 'continent': 'Asia'}, {'country': 'Tajikistan', 'continent': 'Asia'}, {'country': 'Tanzania', 'continent': 'Africa'}, {'country': 'Thailand', 'continent': 'Asia'}, {'country': 'The Democratic Republic of Congo', 'continent': 'Africa'}, {'country': 'Togo', 'continent': 'Africa'}, {'country': 'Tokelau', 'continent': 'Oceania'}, {'country': 'Tonga', 'continent': 'Oceania'}, {'country': 'Trinidad and Tobago', 'continent': 'North America'}, {'country': 'Tunisia', 'continent': 'Africa'}, {'country': 'Turkey', 'continent': 'Asia'}, {'country': 'Turkmenistan', 'continent': 'Asia'}, {'country': 'Turks and Caicos Islands', 'continent': 'North America'}, {'country': 'Tuvalu', 'continent': 'Oceania'}, {'country': 'Uganda', 'continent': 'Africa'}, {'country': 'Ukraine', 'continent': 'Europe'}, {'country': 'United Arab Emirates', 'continent': 'Asia'}, {'country': 'United Kingdom', 'continent': 'Europe'}, {'country': 'United States', 'continent': 'North America'}, {'country': 'United States Minor Outlying Islands', 'continent': 'Oceania'}, {'country': 'Uruguay', 'continent': 'South America'}, {'country': 'Uzbekistan', 'continent': 'Asia'}, {'country': 'Vanuatu', 'continent': 'Oceania'}, {'country': 'Venezuela', 'continent': 'South America'}, {'country': 'Vietnam', 'continent': 'Asia'}, {'country': 'Virgin Islands, British', 'continent': 'North America'}, {'country': 'Virgin Islands, U.S.', 'continent': 'North America'}, {'country': 'Wales', 'continent': 'Europe'}, {'country': 'Wallis and Futuna', 'continent': 'Oceania'}, {'country': 'Western Sahara', 'continent': 'Africa'}, {'country': 'Yemen', 'continent': 'Asia'}, {'country': 'Zambia', 'continent': 'Africa'}, {'country': 'Zimbabwe', 'continent': 'Africa'}]\n"
     ]
    }
   ],
   "source": [
    "print(country_continent_converter)"
   ]
  },
  {
   "cell_type": "code",
   "execution_count": 26,
   "id": "7bf482c4",
   "metadata": {},
   "outputs": [
    {
     "data": {
      "text/plain": [
       "list"
      ]
     },
     "execution_count": 26,
     "metadata": {},
     "output_type": "execute_result"
    }
   ],
   "source": [
    "type(country_continent_converter)"
   ]
  },
  {
   "cell_type": "code",
   "execution_count": 27,
   "id": "2584ea29",
   "metadata": {},
   "outputs": [
    {
     "data": {
      "text/plain": [
       "{'country': 'Afghanistan', 'continent': 'Asia'}"
      ]
     },
     "execution_count": 27,
     "metadata": {},
     "output_type": "execute_result"
    }
   ],
   "source": [
    "country_continent_converter[0]"
   ]
  },
  {
   "cell_type": "code",
   "execution_count": 28,
   "id": "4af079ca",
   "metadata": {},
   "outputs": [
    {
     "data": {
      "text/plain": [
       "'Afghanistan'"
      ]
     },
     "execution_count": 28,
     "metadata": {},
     "output_type": "execute_result"
    }
   ],
   "source": [
    "country_continent_converter[0][\"country\"]"
   ]
  },
  {
   "cell_type": "code",
   "execution_count": 29,
   "id": "1af7e464",
   "metadata": {},
   "outputs": [
    {
     "data": {
      "text/plain": [
       "'Asia'"
      ]
     },
     "execution_count": 29,
     "metadata": {},
     "output_type": "execute_result"
    }
   ],
   "source": [
    "country_continent_converter[0][\"continent\"]"
   ]
  },
  {
   "cell_type": "code",
   "execution_count": 30,
   "id": "d86177c9",
   "metadata": {},
   "outputs": [
    {
     "name": "stdout",
     "output_type": "stream",
     "text": [
      "Asia\n"
     ]
    }
   ],
   "source": [
    "# writing a for-loop to find the continent related to the country `Afghanistan`\n",
    "for country_continent_dict in country_continent_converter:\n",
    "    if 'Afghanistan' == country_continent_dict[\"country\"]:\n",
    "        print(country_continent_dict[\"continent\"])\n"
   ]
  },
  {
   "cell_type": "code",
   "execution_count": 45,
   "id": "b01ce9d2",
   "metadata": {},
   "outputs": [
    {
     "data": {
      "text/plain": [
       "'\\nfor country in df_relevant[\\'Country\\']:\\n    for country_continent_dict in country_continent_converter:\\n        if country_continent_dict == country_continent_dict[\"country\"]:\\n            print(country_continent_dict[\"continent\"])\\n'"
      ]
     },
     "execution_count": 45,
     "metadata": {},
     "output_type": "execute_result"
    }
   ],
   "source": [
    "\"\"\"\n",
    "for country in df_relevant['Country']:\n",
    "    for country_continent_dict in country_continent_converter:\n",
    "        if country_continent_dict == country_continent_dict[\"country\"]:\n",
    "            print(country_continent_dict[\"continent\"])\n",
    "\"\"\""
   ]
  },
  {
   "cell_type": "code",
   "execution_count": 46,
   "id": "8146cd4c",
   "metadata": {},
   "outputs": [],
   "source": [
    "# df_relevant['continent'] = [continent_dict[\"continent\"] for continent_dict in country_continent_converter if df_relevant['Country'] == continent_dict[\"country\"]][0]"
   ]
  },
  {
   "cell_type": "code",
   "execution_count": 47,
   "id": "45b54b36",
   "metadata": {},
   "outputs": [],
   "source": [
    "# Create a mapper function to find continents for each country in the dataframe\n",
    "def fixed_mapper(country_from_df):\n",
    "    '''\n",
    "    Takes in the country and outputs the continent of the country or N/A if continent not found\n",
    "    '''\n",
    "    for country_continent_dict in country_continent_converter:\n",
    "        if country_from_df == country_continent_dict[\"country\"]:\n",
    "            return country_continent_dict[\"continent\"]\n",
    "        \n",
    "    # if country_from_df loops through converter and doesn't find a continent\n",
    "    # then return \"N/A\"\n",
    "    return \"N/A\"\n",
    "    "
   ]
  },
  {
   "cell_type": "code",
   "execution_count": 34,
   "id": "843bc3a6",
   "metadata": {},
   "outputs": [],
   "source": [
    "# def get_continent(country): \n",
    "#        return [continent_dict[\"continent\"] for continent_dict in country_continent_converter if continent_dict[\"country\"] == country] \n",
    "\n",
    "\n",
    "# df_relevant['continent_1'] = df_relevant['Country'].apply(get_continent)"
   ]
  },
  {
   "cell_type": "code",
   "execution_count": 35,
   "id": "f1f870df",
   "metadata": {},
   "outputs": [
    {
     "name": "stderr",
     "output_type": "stream",
     "text": [
      "/var/folders/8g/m6zcqnnd1p36dhf35mwkv0zw0000gn/T/ipykernel_51777/3065947453.py:1: SettingWithCopyWarning: \n",
      "A value is trying to be set on a copy of a slice from a DataFrame.\n",
      "Try using .loc[row_indexer,col_indexer] = value instead\n",
      "\n",
      "See the caveats in the documentation: https://pandas.pydata.org/pandas-docs/stable/user_guide/indexing.html#returning-a-view-versus-a-copy\n",
      "  df_relevant[\"continent\"] = df_relevant[\"Country\"].map(fixed_mapper)\n"
     ]
    }
   ],
   "source": [
    "# using mapper function to create new column \"continent\" inside df_relevant\n",
    "df_relevant[\"continent\"] = df_relevant[\"Country\"].map(fixed_mapper)"
   ]
  },
  {
   "cell_type": "code",
   "execution_count": 36,
   "id": "8b813603",
   "metadata": {},
   "outputs": [
    {
     "data": {
      "text/html": [
       "<div>\n",
       "<style scoped>\n",
       "    .dataframe tbody tr th:only-of-type {\n",
       "        vertical-align: middle;\n",
       "    }\n",
       "\n",
       "    .dataframe tbody tr th {\n",
       "        vertical-align: top;\n",
       "    }\n",
       "\n",
       "    .dataframe thead th {\n",
       "        text-align: right;\n",
       "    }\n",
       "</style>\n",
       "<table border=\"1\" class=\"dataframe\">\n",
       "  <thead>\n",
       "    <tr style=\"text-align: right;\">\n",
       "      <th></th>\n",
       "      <th>Country</th>\n",
       "      <th>Year</th>\n",
       "      <th>Status</th>\n",
       "      <th>Life expectancy</th>\n",
       "      <th>Adult Mortality</th>\n",
       "      <th>under-five deaths</th>\n",
       "      <th>percentage expenditure</th>\n",
       "      <th>GDP</th>\n",
       "      <th>Population</th>\n",
       "      <th>Income composition of resources</th>\n",
       "      <th>Schooling</th>\n",
       "      <th>continent</th>\n",
       "    </tr>\n",
       "  </thead>\n",
       "  <tbody>\n",
       "    <tr>\n",
       "      <th>0</th>\n",
       "      <td>Afghanistan</td>\n",
       "      <td>2015</td>\n",
       "      <td>Developing</td>\n",
       "      <td>65.0</td>\n",
       "      <td>263.0</td>\n",
       "      <td>83</td>\n",
       "      <td>71.279624</td>\n",
       "      <td>584.259210</td>\n",
       "      <td>33736494.0</td>\n",
       "      <td>0.479</td>\n",
       "      <td>10.1</td>\n",
       "      <td>Asia</td>\n",
       "    </tr>\n",
       "    <tr>\n",
       "      <th>1</th>\n",
       "      <td>Afghanistan</td>\n",
       "      <td>2014</td>\n",
       "      <td>Developing</td>\n",
       "      <td>59.9</td>\n",
       "      <td>271.0</td>\n",
       "      <td>86</td>\n",
       "      <td>73.523582</td>\n",
       "      <td>612.696514</td>\n",
       "      <td>327582.0</td>\n",
       "      <td>0.476</td>\n",
       "      <td>10.0</td>\n",
       "      <td>Asia</td>\n",
       "    </tr>\n",
       "    <tr>\n",
       "      <th>2</th>\n",
       "      <td>Afghanistan</td>\n",
       "      <td>2013</td>\n",
       "      <td>Developing</td>\n",
       "      <td>59.9</td>\n",
       "      <td>268.0</td>\n",
       "      <td>89</td>\n",
       "      <td>73.219243</td>\n",
       "      <td>631.744976</td>\n",
       "      <td>31731688.0</td>\n",
       "      <td>0.470</td>\n",
       "      <td>9.9</td>\n",
       "      <td>Asia</td>\n",
       "    </tr>\n",
       "    <tr>\n",
       "      <th>3</th>\n",
       "      <td>Afghanistan</td>\n",
       "      <td>2012</td>\n",
       "      <td>Developing</td>\n",
       "      <td>59.5</td>\n",
       "      <td>272.0</td>\n",
       "      <td>93</td>\n",
       "      <td>78.184215</td>\n",
       "      <td>669.959000</td>\n",
       "      <td>3696958.0</td>\n",
       "      <td>0.463</td>\n",
       "      <td>9.8</td>\n",
       "      <td>Asia</td>\n",
       "    </tr>\n",
       "    <tr>\n",
       "      <th>4</th>\n",
       "      <td>Afghanistan</td>\n",
       "      <td>2011</td>\n",
       "      <td>Developing</td>\n",
       "      <td>59.2</td>\n",
       "      <td>275.0</td>\n",
       "      <td>97</td>\n",
       "      <td>7.097109</td>\n",
       "      <td>63.537231</td>\n",
       "      <td>2978599.0</td>\n",
       "      <td>0.454</td>\n",
       "      <td>9.5</td>\n",
       "      <td>Asia</td>\n",
       "    </tr>\n",
       "    <tr>\n",
       "      <th>5</th>\n",
       "      <td>Afghanistan</td>\n",
       "      <td>2010</td>\n",
       "      <td>Developing</td>\n",
       "      <td>58.8</td>\n",
       "      <td>279.0</td>\n",
       "      <td>102</td>\n",
       "      <td>79.679367</td>\n",
       "      <td>553.328940</td>\n",
       "      <td>2883167.0</td>\n",
       "      <td>0.448</td>\n",
       "      <td>9.2</td>\n",
       "      <td>Asia</td>\n",
       "    </tr>\n",
       "    <tr>\n",
       "      <th>6</th>\n",
       "      <td>Afghanistan</td>\n",
       "      <td>2009</td>\n",
       "      <td>Developing</td>\n",
       "      <td>58.6</td>\n",
       "      <td>281.0</td>\n",
       "      <td>106</td>\n",
       "      <td>56.762217</td>\n",
       "      <td>445.893298</td>\n",
       "      <td>284331.0</td>\n",
       "      <td>0.434</td>\n",
       "      <td>8.9</td>\n",
       "      <td>Asia</td>\n",
       "    </tr>\n",
       "    <tr>\n",
       "      <th>7</th>\n",
       "      <td>Afghanistan</td>\n",
       "      <td>2008</td>\n",
       "      <td>Developing</td>\n",
       "      <td>58.1</td>\n",
       "      <td>287.0</td>\n",
       "      <td>110</td>\n",
       "      <td>25.873925</td>\n",
       "      <td>373.361116</td>\n",
       "      <td>2729431.0</td>\n",
       "      <td>0.433</td>\n",
       "      <td>8.7</td>\n",
       "      <td>Asia</td>\n",
       "    </tr>\n",
       "    <tr>\n",
       "      <th>8</th>\n",
       "      <td>Afghanistan</td>\n",
       "      <td>2007</td>\n",
       "      <td>Developing</td>\n",
       "      <td>57.5</td>\n",
       "      <td>295.0</td>\n",
       "      <td>113</td>\n",
       "      <td>10.910156</td>\n",
       "      <td>369.835796</td>\n",
       "      <td>26616792.0</td>\n",
       "      <td>0.415</td>\n",
       "      <td>8.4</td>\n",
       "      <td>Asia</td>\n",
       "    </tr>\n",
       "    <tr>\n",
       "      <th>9</th>\n",
       "      <td>Afghanistan</td>\n",
       "      <td>2006</td>\n",
       "      <td>Developing</td>\n",
       "      <td>57.3</td>\n",
       "      <td>295.0</td>\n",
       "      <td>116</td>\n",
       "      <td>17.171518</td>\n",
       "      <td>272.563770</td>\n",
       "      <td>2589345.0</td>\n",
       "      <td>0.405</td>\n",
       "      <td>8.1</td>\n",
       "      <td>Asia</td>\n",
       "    </tr>\n",
       "  </tbody>\n",
       "</table>\n",
       "</div>"
      ],
      "text/plain": [
       "       Country  Year      Status  Life expectancy  Adult Mortality  \\\n",
       "0  Afghanistan  2015  Developing             65.0            263.0   \n",
       "1  Afghanistan  2014  Developing             59.9            271.0   \n",
       "2  Afghanistan  2013  Developing             59.9            268.0   \n",
       "3  Afghanistan  2012  Developing             59.5            272.0   \n",
       "4  Afghanistan  2011  Developing             59.2            275.0   \n",
       "5  Afghanistan  2010  Developing             58.8            279.0   \n",
       "6  Afghanistan  2009  Developing             58.6            281.0   \n",
       "7  Afghanistan  2008  Developing             58.1            287.0   \n",
       "8  Afghanistan  2007  Developing             57.5            295.0   \n",
       "9  Afghanistan  2006  Developing             57.3            295.0   \n",
       "\n",
       "   under-five deaths  percentage expenditure         GDP  Population  \\\n",
       "0                 83               71.279624  584.259210  33736494.0   \n",
       "1                 86               73.523582  612.696514    327582.0   \n",
       "2                 89               73.219243  631.744976  31731688.0   \n",
       "3                 93               78.184215  669.959000   3696958.0   \n",
       "4                 97                7.097109   63.537231   2978599.0   \n",
       "5                102               79.679367  553.328940   2883167.0   \n",
       "6                106               56.762217  445.893298    284331.0   \n",
       "7                110               25.873925  373.361116   2729431.0   \n",
       "8                113               10.910156  369.835796  26616792.0   \n",
       "9                116               17.171518  272.563770   2589345.0   \n",
       "\n",
       "   Income composition of resources  Schooling continent  \n",
       "0                            0.479       10.1      Asia  \n",
       "1                            0.476       10.0      Asia  \n",
       "2                            0.470        9.9      Asia  \n",
       "3                            0.463        9.8      Asia  \n",
       "4                            0.454        9.5      Asia  \n",
       "5                            0.448        9.2      Asia  \n",
       "6                            0.434        8.9      Asia  \n",
       "7                            0.433        8.7      Asia  \n",
       "8                            0.415        8.4      Asia  \n",
       "9                            0.405        8.1      Asia  "
      ]
     },
     "execution_count": 36,
     "metadata": {},
     "output_type": "execute_result"
    }
   ],
   "source": [
    "df_relevant.head(10)"
   ]
  },
  {
   "cell_type": "code",
   "execution_count": 37,
   "id": "915e5ce8",
   "metadata": {},
   "outputs": [
    {
     "data": {
      "text/plain": [
       "continent\n",
       "Africa           784\n",
       "Asia             624\n",
       "Europe           546\n",
       "N/A              368\n",
       "North America    322\n",
       "South America    160\n",
       "Oceania          134\n",
       "Name: count, dtype: int64"
      ]
     },
     "execution_count": 37,
     "metadata": {},
     "output_type": "execute_result"
    }
   ],
   "source": [
    "df_relevant['continent'].value_counts()"
   ]
  },
  {
   "cell_type": "code",
   "execution_count": 38,
   "id": "78afd031",
   "metadata": {},
   "outputs": [
    {
     "data": {
      "text/plain": [
       "array(['Bolivia (Plurinational State of)', 'Brunei Darussalam',\n",
       "       \"Côte d'Ivoire\", 'Cabo Verde', 'Czechia',\n",
       "       \"Democratic People's Republic of Korea\",\n",
       "       'Democratic Republic of the Congo', 'Fiji',\n",
       "       'Iran (Islamic Republic of)', \"Lao People's Democratic Republic\",\n",
       "       'Micronesia (Federated States of)', 'Republic of Korea',\n",
       "       'Republic of Moldova', 'Russian Federation', 'Swaziland',\n",
       "       'Syrian Arab Republic',\n",
       "       'The former Yugoslav republic of Macedonia', 'Timor-Leste',\n",
       "       'United Kingdom of Great Britain and Northern Ireland',\n",
       "       'United Republic of Tanzania', 'United States of America',\n",
       "       'Venezuela (Bolivarian Republic of)', 'Viet Nam'], dtype=object)"
      ]
     },
     "execution_count": 38,
     "metadata": {},
     "output_type": "execute_result"
    }
   ],
   "source": [
    "# Finding all countries where continent wasn't found\n",
    "test = df_relevant.loc[df_relevant['continent'] == 'N/A']\n",
    "test['Country'].unique()"
   ]
  },
  {
   "cell_type": "code",
   "execution_count": 39,
   "id": "57555525",
   "metadata": {},
   "outputs": [],
   "source": [
    "# mapping country names to the country names related to country-by-continent.json dictionary\n",
    "\n",
    "relabel_countries = {\n",
    "    'Bolivia (Plurinational State of)': 'Bolivia',\n",
    "    'Brunei Darussalam': 'Brunei',\n",
    "       \"Côte d'Ivoire\": 'Ivory Coast',\n",
    "       'Cabo Verde': 'Cape Verde',\n",
    "       'Czechia': 'Czech Republic',\n",
    "       \"Democratic People's Republic of Korea\": 'North Korea',\n",
    "       'Democratic Republic of the Congo': 'The Democratic Republic of Congo',\n",
    "       'Fiji': 'Fiji Islands',\n",
    "       'Iran (Islamic Republic of)': 'Iran',\n",
    "       \"Lao People's Democratic Republic\": 'Laos',\n",
    "       'Micronesia (Federated States of)': 'Micronesia, Federated States of',\n",
    "       'Republic of Korea': 'South Korea',\n",
    "       'Republic of Moldova': 'Moldova',\n",
    "       'Russian Federation': 'Russia',\n",
    "       'Swaziland': 'Eswatini',\n",
    "       'Syrian Arab Republic': 'Syria',\n",
    "       'The former Yugoslav republic of Macedonia': 'North Macedonia',\n",
    "       'Timor-Leste': 'East Timor',\n",
    "       'United Kingdom of Great Britain and Northern Ireland': 'United Kingdom',\n",
    "       'United Republic of Tanzania': 'Tanzania',\n",
    "       'United States of America': 'United States',\n",
    "       'Venezuela (Bolivarian Republic of)': 'Venezuela',\n",
    "       'Viet Nam': 'Vietnam'\n",
    "}"
   ]
  },
  {
   "cell_type": "code",
   "execution_count": 40,
   "id": "5fc81359",
   "metadata": {},
   "outputs": [
    {
     "name": "stderr",
     "output_type": "stream",
     "text": [
      "/var/folders/8g/m6zcqnnd1p36dhf35mwkv0zw0000gn/T/ipykernel_51777/852530127.py:1: SettingWithCopyWarning: \n",
      "A value is trying to be set on a copy of a slice from a DataFrame.\n",
      "Try using .loc[row_indexer,col_indexer] = value instead\n",
      "\n",
      "See the caveats in the documentation: https://pandas.pydata.org/pandas-docs/stable/user_guide/indexing.html#returning-a-view-versus-a-copy\n",
      "  df_relevant['Country'] = df_relevant['Country'].replace(relabel_countries)\n"
     ]
    }
   ],
   "source": [
    "# Using a .replace to replace relevant country names\n",
    "df_relevant['Country'] = df_relevant['Country'].replace(relabel_countries)"
   ]
  },
  {
   "cell_type": "code",
   "execution_count": 41,
   "id": "45fc3581",
   "metadata": {},
   "outputs": [
    {
     "data": {
      "text/plain": [
       "array(['Bolivia', 'Brunei', 'Ivory Coast', 'Cape Verde', 'Czech Republic',\n",
       "       'North Korea', 'The Democratic Republic of Congo', 'Fiji Islands',\n",
       "       'Iran', 'Laos', 'Micronesia, Federated States of', 'South Korea',\n",
       "       'Moldova', 'Russia', 'Eswatini', 'Syria', 'North Macedonia',\n",
       "       'East Timor', 'United Kingdom', 'Tanzania', 'United States',\n",
       "       'Venezuela', 'Vietnam'], dtype=object)"
      ]
     },
     "execution_count": 41,
     "metadata": {},
     "output_type": "execute_result"
    }
   ],
   "source": [
    "# Checking that relevant country names were changed\n",
    "test = df_relevant.loc[df_relevant['continent'] == 'N/A']\n",
    "test['Country'].unique()"
   ]
  },
  {
   "cell_type": "code",
   "execution_count": 42,
   "id": "035626b9",
   "metadata": {},
   "outputs": [
    {
     "name": "stderr",
     "output_type": "stream",
     "text": [
      "/var/folders/8g/m6zcqnnd1p36dhf35mwkv0zw0000gn/T/ipykernel_51777/3065947453.py:1: SettingWithCopyWarning: \n",
      "A value is trying to be set on a copy of a slice from a DataFrame.\n",
      "Try using .loc[row_indexer,col_indexer] = value instead\n",
      "\n",
      "See the caveats in the documentation: https://pandas.pydata.org/pandas-docs/stable/user_guide/indexing.html#returning-a-view-versus-a-copy\n",
      "  df_relevant[\"continent\"] = df_relevant[\"Country\"].map(fixed_mapper)\n"
     ]
    }
   ],
   "source": [
    "# Finding continents again\n",
    "df_relevant[\"continent\"] = df_relevant[\"Country\"].map(fixed_mapper)"
   ]
  },
  {
   "cell_type": "code",
   "execution_count": 43,
   "id": "fd1d39d2",
   "metadata": {},
   "outputs": [
    {
     "data": {
      "text/plain": [
       "array([], dtype=object)"
      ]
     },
     "execution_count": 43,
     "metadata": {},
     "output_type": "execute_result"
    }
   ],
   "source": [
    "# yay! all continents are found\n",
    "test = df_relevant.loc[df_relevant['continent'] == 'N/A']\n",
    "test['Country'].unique()"
   ]
  },
  {
   "cell_type": "code",
   "execution_count": 44,
   "id": "be65c984",
   "metadata": {},
   "outputs": [
    {
     "data": {
      "text/html": [
       "<div>\n",
       "<style scoped>\n",
       "    .dataframe tbody tr th:only-of-type {\n",
       "        vertical-align: middle;\n",
       "    }\n",
       "\n",
       "    .dataframe tbody tr th {\n",
       "        vertical-align: top;\n",
       "    }\n",
       "\n",
       "    .dataframe thead th {\n",
       "        text-align: right;\n",
       "    }\n",
       "</style>\n",
       "<table border=\"1\" class=\"dataframe\">\n",
       "  <thead>\n",
       "    <tr style=\"text-align: right;\">\n",
       "      <th></th>\n",
       "      <th>Country</th>\n",
       "      <th>Year</th>\n",
       "      <th>Status</th>\n",
       "      <th>Life expectancy</th>\n",
       "      <th>Adult Mortality</th>\n",
       "      <th>under-five deaths</th>\n",
       "      <th>percentage expenditure</th>\n",
       "      <th>GDP</th>\n",
       "      <th>Population</th>\n",
       "      <th>Income composition of resources</th>\n",
       "      <th>Schooling</th>\n",
       "      <th>continent</th>\n",
       "    </tr>\n",
       "  </thead>\n",
       "  <tbody>\n",
       "    <tr>\n",
       "      <th>0</th>\n",
       "      <td>Afghanistan</td>\n",
       "      <td>2015</td>\n",
       "      <td>Developing</td>\n",
       "      <td>65.0</td>\n",
       "      <td>263.0</td>\n",
       "      <td>83</td>\n",
       "      <td>71.279624</td>\n",
       "      <td>584.259210</td>\n",
       "      <td>33736494.0</td>\n",
       "      <td>0.479</td>\n",
       "      <td>10.1</td>\n",
       "      <td>Asia</td>\n",
       "    </tr>\n",
       "    <tr>\n",
       "      <th>1</th>\n",
       "      <td>Afghanistan</td>\n",
       "      <td>2014</td>\n",
       "      <td>Developing</td>\n",
       "      <td>59.9</td>\n",
       "      <td>271.0</td>\n",
       "      <td>86</td>\n",
       "      <td>73.523582</td>\n",
       "      <td>612.696514</td>\n",
       "      <td>327582.0</td>\n",
       "      <td>0.476</td>\n",
       "      <td>10.0</td>\n",
       "      <td>Asia</td>\n",
       "    </tr>\n",
       "    <tr>\n",
       "      <th>2</th>\n",
       "      <td>Afghanistan</td>\n",
       "      <td>2013</td>\n",
       "      <td>Developing</td>\n",
       "      <td>59.9</td>\n",
       "      <td>268.0</td>\n",
       "      <td>89</td>\n",
       "      <td>73.219243</td>\n",
       "      <td>631.744976</td>\n",
       "      <td>31731688.0</td>\n",
       "      <td>0.470</td>\n",
       "      <td>9.9</td>\n",
       "      <td>Asia</td>\n",
       "    </tr>\n",
       "    <tr>\n",
       "      <th>3</th>\n",
       "      <td>Afghanistan</td>\n",
       "      <td>2012</td>\n",
       "      <td>Developing</td>\n",
       "      <td>59.5</td>\n",
       "      <td>272.0</td>\n",
       "      <td>93</td>\n",
       "      <td>78.184215</td>\n",
       "      <td>669.959000</td>\n",
       "      <td>3696958.0</td>\n",
       "      <td>0.463</td>\n",
       "      <td>9.8</td>\n",
       "      <td>Asia</td>\n",
       "    </tr>\n",
       "    <tr>\n",
       "      <th>4</th>\n",
       "      <td>Afghanistan</td>\n",
       "      <td>2011</td>\n",
       "      <td>Developing</td>\n",
       "      <td>59.2</td>\n",
       "      <td>275.0</td>\n",
       "      <td>97</td>\n",
       "      <td>7.097109</td>\n",
       "      <td>63.537231</td>\n",
       "      <td>2978599.0</td>\n",
       "      <td>0.454</td>\n",
       "      <td>9.5</td>\n",
       "      <td>Asia</td>\n",
       "    </tr>\n",
       "  </tbody>\n",
       "</table>\n",
       "</div>"
      ],
      "text/plain": [
       "       Country  Year      Status  Life expectancy  Adult Mortality  \\\n",
       "0  Afghanistan  2015  Developing             65.0            263.0   \n",
       "1  Afghanistan  2014  Developing             59.9            271.0   \n",
       "2  Afghanistan  2013  Developing             59.9            268.0   \n",
       "3  Afghanistan  2012  Developing             59.5            272.0   \n",
       "4  Afghanistan  2011  Developing             59.2            275.0   \n",
       "\n",
       "   under-five deaths  percentage expenditure         GDP  Population  \\\n",
       "0                 83               71.279624  584.259210  33736494.0   \n",
       "1                 86               73.523582  612.696514    327582.0   \n",
       "2                 89               73.219243  631.744976  31731688.0   \n",
       "3                 93               78.184215  669.959000   3696958.0   \n",
       "4                 97                7.097109   63.537231   2978599.0   \n",
       "\n",
       "   Income composition of resources  Schooling continent  \n",
       "0                            0.479       10.1      Asia  \n",
       "1                            0.476       10.0      Asia  \n",
       "2                            0.470        9.9      Asia  \n",
       "3                            0.463        9.8      Asia  \n",
       "4                            0.454        9.5      Asia  "
      ]
     },
     "execution_count": 44,
     "metadata": {},
     "output_type": "execute_result"
    }
   ],
   "source": [
    "df_relevant.head()"
   ]
  },
  {
   "cell_type": "code",
   "execution_count": 54,
   "id": "f194cd9f",
   "metadata": {},
   "outputs": [
    {
     "data": {
      "text/plain": [
       "array(['Bahamas', 'Bolivia', 'Ivory Coast', 'Congo', 'Cook Islands',\n",
       "       'Czech Republic', 'North Korea',\n",
       "       'The Democratic Republic of Congo', 'Egypt', 'Eritrea', 'Gambia',\n",
       "       'Iran', 'Iraq', 'Kyrgyzstan', 'Laos', 'Libya',\n",
       "       'Micronesia, Federated States of', 'Monaco', 'Niue',\n",
       "       'Papua New Guinea', 'South Korea', 'Moldova',\n",
       "       'Saint Kitts and Nevis', 'Saint Lucia',\n",
       "       'Saint Vincent and the Grenadines', 'San Marino',\n",
       "       'Sao Tome and Principe', 'Slovakia', 'Somalia', 'South Sudan',\n",
       "       'Syria', 'North Macedonia', 'United Kingdom', 'Tanzania',\n",
       "       'United States', 'Venezuela', 'Vietnam', 'Yemen'], dtype=object)"
      ]
     },
     "execution_count": 54,
     "metadata": {},
     "output_type": "execute_result"
    }
   ],
   "source": [
    "df_relevant.loc[df_relevant[\"GDP\"].isna()][\"Country\"].unique()"
   ]
  },
  {
   "cell_type": "code",
   "execution_count": 56,
   "id": "f189af12",
   "metadata": {},
   "outputs": [
    {
     "data": {
      "text/plain": [
       "array(['Antigua and Barbuda', 'Bahamas', 'Bahrain', 'Barbados', 'Bolivia',\n",
       "       'Brunei', 'Ivory Coast', 'Congo', 'Cook Islands', 'Cuba',\n",
       "       'Czech Republic', 'North Korea',\n",
       "       'The Democratic Republic of Congo', 'Dominica', 'Egypt', 'Eritrea',\n",
       "       'Gambia', 'Grenada', 'Iran', 'Kuwait', 'Kyrgyzstan', 'Laos',\n",
       "       'Libya', 'Marshall Islands', 'Micronesia, Federated States of',\n",
       "       'Monaco', 'Nauru', 'New Zealand', 'Niue', 'Oman', 'Qatar',\n",
       "       'South Korea', 'Moldova', 'Saint Kitts and Nevis', 'Saint Lucia',\n",
       "       'Saint Vincent and the Grenadines', 'San Marino', 'Saudi Arabia',\n",
       "       'Singapore', 'Slovakia', 'Somalia', 'North Macedonia',\n",
       "       'United Arab Emirates', 'United Kingdom', 'Tanzania',\n",
       "       'United States', 'Venezuela', 'Vietnam', 'Yemen'], dtype=object)"
      ]
     },
     "execution_count": 56,
     "metadata": {},
     "output_type": "execute_result"
    }
   ],
   "source": [
    "df_relevant.loc[df_relevant[\"Population\"].isna()][\"Country\"].unique()"
   ]
  },
  {
   "cell_type": "code",
   "execution_count": 57,
   "id": "eb98fe8d",
   "metadata": {},
   "outputs": [
    {
     "data": {
      "text/plain": [
       "array([2015, 2014, 2013, 2012, 2011, 2010, 2009, 2008, 2007, 2006, 2005,\n",
       "       2004, 2003, 2002, 2001, 2000])"
      ]
     },
     "execution_count": 57,
     "metadata": {},
     "output_type": "execute_result"
    }
   ],
   "source": [
    "df_relevant[\"Year\"].unique()"
   ]
  },
  {
   "cell_type": "code",
   "execution_count": 83,
   "id": "0fcd04ba",
   "metadata": {},
   "outputs": [
    {
     "data": {
      "text/plain": [
       "array(['Asia', 'Europe', 'Africa', 'North America', 'South America',\n",
       "       'Oceania'], dtype=object)"
      ]
     },
     "execution_count": 83,
     "metadata": {},
     "output_type": "execute_result"
    }
   ],
   "source": [
    "years = df_relevant[\"Year\"].unique()\n",
    "continents = df_relevant[\"continent\"].unique()"
   ]
  },
  {
   "cell_type": "code",
   "execution_count": 92,
   "id": "27b9ddfd",
   "metadata": {},
   "outputs": [
    {
     "data": {
      "text/plain": [
       "continent      Year\n",
       "Africa         2000    4292\n",
       "               2001    4232\n",
       "               2002    4154\n",
       "               2003    4071\n",
       "               2004    3984\n",
       "                       ... \n",
       "South America  2011     129\n",
       "               2012     123\n",
       "               2013     120\n",
       "               2014     113\n",
       "               2015     111\n",
       "Name: under-five deaths, Length: 96, dtype: int64"
      ]
     },
     "execution_count": 92,
     "metadata": {},
     "output_type": "execute_result"
    }
   ],
   "source": [
    "# group by year and continent, get the sum of under-five deaths\n",
    "under_five_deaths_by_cont_year = df_relevant.groupby(by=[\"continent\", \"Year\"])[\"under-five deaths\"].sum()\n",
    "under_five_deaths_by_cont_year"
   ]
  },
  {
   "cell_type": "code",
   "execution_count": null,
   "id": "d13ccf57",
   "metadata": {},
   "outputs": [],
   "source": [
    "\"\"\"\n",
    "# getting y_axis for Africa under 5 deaths per year\n",
    "y_axis_africa = []\n",
    "for year in years:\n",
    "    y_axis_africa.append(under_five_deaths_by_cont_year[\"Africa\"][year])\n",
    "\n",
    "# getting y_axis for Asia under 5 deaths per year\n",
    "y_axis_asia = []\n",
    "for year in years:\n",
    "    y_axis_asia.append(under_five_deaths_by_cont_year[\"Asia\"][year])\n",
    "\"\"\""
   ]
  },
  {
   "cell_type": "code",
   "execution_count": 98,
   "id": "57fc03f9",
   "metadata": {},
   "outputs": [
    {
     "data": {
      "image/png": "[encoded data removed]",
      "text/plain": [
       "<Figure size 1000x500 with 1 Axes>"
      ]
     },
     "metadata": {},
     "output_type": "display_data"
    }
   ],
   "source": [
    "# Under-5 deaths per year by continent\n",
    "# x-axis: year\n",
    "# y-axis: under 5 deaths\n",
    "# each continent would have its own line in the graph\n",
    "# FOR TABLEAU: Under-5 deaths by continent + status\n",
    "\n",
    "fig, ax = plt.subplots(figsize=(10, 5))\n",
    "\n",
    "colors = ['blue', 'green', 'red', 'purple', 'orange', 'pink']\n",
    "\n",
    "for i, continent in enumerate(continents):\n",
    "    # for every continent, get the under five deaths for every year\n",
    "    under_five_deaths_per_continent = [under_five_deaths_by_cont_year[continent][year] for year in years]\n",
    "\n",
    "    # plot under five deaths for that continent\n",
    "    ax.plot(years, under_five_deaths_per_continent, label=continent, color=colors[i], linestyle='-', marker='o')\n",
    "\n",
    "\n",
    "ax.set_title('Under-5 Deaths per year per continent')\n",
    "ax.set_xlabel('Year')\n",
    "ax.set_ylabel('Under-5 Deaths')\n",
    "ax.legend()\n",
    "ax.grid(True)\n",
    "plt.show()"
   ]
  },
  {
   "cell_type": "code",
   "execution_count": 99,
   "id": "c72352d1",
   "metadata": {},
   "outputs": [
    {
     "data": {
      "text/plain": [
       "\"\\nfig, ax = plt.subplots(figsize=(10, 5))\\nax.plot(years, y_axis_africa, label='Africa', color='blue', linestyle='-', marker='o')\\nax.plot(years, y_axis_asia, label='Asia', color='red', linestyle='-', marker='o')\\nax.set_title('Line Plot')\\nax.set_xlabel('Year')\\nax.set_ylabel('Under-5 Deaths')\\nax.legend()\\nax.grid(True)\\nplt.show()\\n\""
      ]
     },
     "execution_count": 99,
     "metadata": {},
     "output_type": "execute_result"
    }
   ],
   "source": [
    "# Manual way\n",
    "\n",
    "\"\"\"\n",
    "fig, ax = plt.subplots(figsize=(10, 5))\n",
    "ax.plot(years, y_axis_africa, label='Africa', color='blue', linestyle='-', marker='o')\n",
    "ax.plot(years, y_axis_asia, label='Asia', color='red', linestyle='-', marker='o')\n",
    "ax.set_title('Line Plot')\n",
    "ax.set_xlabel('Year')\n",
    "ax.set_ylabel('Under-5 Deaths')\n",
    "ax.legend()\n",
    "ax.grid(True)\n",
    "plt.show()\n",
    "\"\"\""
   ]
  },
  {
   "cell_type": "code",
   "execution_count": null,
   "id": "714fbb59",
   "metadata": {},
   "outputs": [],
   "source": [
    "# next step: basically do the same thing but for adult mortality rates"
   ]
  }
 ],
 "metadata": {
  "kernelspec": {
   "display_name": "Cohort_Env",
   "language": "python",
   "name": "python3"
  },
  "language_info": {
   "codemirror_mode": {
    "name": "ipython",
    "version": 3
   },
   "file_extension": ".py",
   "mimetype": "text/x-python",
   "name": "python",
   "nbconvert_exporter": "python",
   "pygments_lexer": "ipython3",
   "version": "3.8.19"
  }
 },
 "nbformat": 4,
 "nbformat_minor": 5
}
